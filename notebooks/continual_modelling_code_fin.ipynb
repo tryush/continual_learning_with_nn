{
 "cells": [
  {
   "cell_type": "code",
   "execution_count": 1,
   "id": "57e45b20-1e8a-401d-9605-e7386c06e61e",
   "metadata": {},
   "outputs": [
    {
     "name": "stderr",
     "output_type": "stream",
     "text": [
      "2024-02-05 17:31:57.546602: I tensorflow/core/platform/cpu_feature_guard.cc:193] This TensorFlow binary is optimized with oneAPI Deep Neural Network Library (oneDNN) to use the following CPU instructions in performance-critical operations:  AVX2 AVX512F AVX512_VNNI FMA\n",
      "To enable them in other operations, rebuild TensorFlow with the appropriate compiler flags.\n",
      "2024-02-05 17:31:57.650183: I tensorflow/core/util/util.cc:169] oneDNN custom operations are on. You may see slightly different numerical results due to floating-point round-off errors from different computation orders. To turn them off, set the environment variable `TF_ENABLE_ONEDNN_OPTS=0`.\n",
      "2024-02-05 17:31:57.655375: W tensorflow/stream_executor/platform/default/dso_loader.cc:64] Could not load dynamic library 'libcudart.so.11.0'; dlerror: libcudart.so.11.0: cannot open shared object file: No such file or directory\n",
      "2024-02-05 17:31:57.655390: I tensorflow/stream_executor/cuda/cudart_stub.cc:29] Ignore above cudart dlerror if you do not have a GPU set up on your machine.\n",
      "2024-02-05 17:31:57.679879: E tensorflow/stream_executor/cuda/cuda_blas.cc:2981] Unable to register cuBLAS factory: Attempting to register factory for plugin cuBLAS when one has already been registered\n",
      "2024-02-05 17:31:58.286119: W tensorflow/stream_executor/platform/default/dso_loader.cc:64] Could not load dynamic library 'libnvinfer.so.7'; dlerror: libnvinfer.so.7: cannot open shared object file: No such file or directory\n",
      "2024-02-05 17:31:58.286180: W tensorflow/stream_executor/platform/default/dso_loader.cc:64] Could not load dynamic library 'libnvinfer_plugin.so.7'; dlerror: libnvinfer_plugin.so.7: cannot open shared object file: No such file or directory\n",
      "2024-02-05 17:31:58.286187: W tensorflow/compiler/tf2tensorrt/utils/py_utils.cc:38] TF-TRT Warning: Cannot dlopen some TensorRT libraries. If you would like to use Nvidia GPU with TensorRT, please make sure the missing libraries mentioned above are installed properly.\n"
     ]
    }
   ],
   "source": [
    "from tensorflow import keras\n",
    "from tensorflow.keras import layers\n",
    "from sklearn.model_selection import train_test_split\n",
    "from sklearn.preprocessing import LabelEncoder\n",
    "import pandas as pd\n",
    "from tensorflow.keras.preprocessing.text import Tokenizer\n",
    "from tensorflow.keras.preprocessing.sequence import pad_sequences\n",
    "import re\n",
    "from sklearn.model_selection import train_test_split\n",
    "from sklearn.preprocessing import MultiLabelBinarizer\n",
    "from sklearn.metrics import f1_score, classification_report\n",
    "import numpy as np"
   ]
  },
  {
   "cell_type": "code",
   "execution_count": 2,
   "id": "b75cc437-99b7-4536-9872-70a8215269ea",
   "metadata": {},
   "outputs": [
    {
     "data": {
      "text/plain": [
       "((7356, 4), (6455, 4), (6277, 4))"
      ]
     },
     "execution_count": 2,
     "metadata": {},
     "output_type": "execute_result"
    }
   ],
   "source": [
    "data_g1 = pd.read_excel(\"/home/ubuntu/training/ayush/continual_learning/G1.xlsx\")\n",
    "data_g2 = pd.read_excel(\"/home/ubuntu/training/ayush/continual_learning/G2.xlsx\")\n",
    "data_g3 = pd.read_excel(\"/home/ubuntu/training/ayush/continual_learning/G3.xlsx\")\n",
    "\n",
    "data_g1.shape, data_g2.shape, data_g3.shape"
   ]
  },
  {
   "cell_type": "code",
   "execution_count": 3,
   "id": "60470870-0d68-4dbb-87d9-0655ae752064",
   "metadata": {},
   "outputs": [],
   "source": [
    "data_g1.drop('Unnamed: 0', axis =1, inplace = True)\n",
    "data_g2.drop('Unnamed: 0', axis =1, inplace = True)\n",
    "data_g3.drop('Unnamed: 0', axis =1, inplace = True)"
   ]
  },
  {
   "cell_type": "code",
   "execution_count": 4,
   "id": "73e871b8-4f22-4a4f-82d0-2e990353b700",
   "metadata": {},
   "outputs": [],
   "source": [
    "data_g2['text'] = data_g2['text'].astype(str)"
   ]
  },
  {
   "cell_type": "code",
   "execution_count": 5,
   "id": "15b1ef99-00a9-4f95-844f-62de39793b26",
   "metadata": {},
   "outputs": [],
   "source": [
    "data_g1['tags'] = data_g1['tags'].apply(lambda x: re.sub(r\"[^a-zA-Z_]\", \" \", x))\n",
    "data_g2['tags'] = data_g2['tags'].apply(lambda x: re.sub(r\"[^a-zA-Z_]\", \" \", x))\n",
    "data_g3['tags'] = data_g3['tags'].apply(lambda x: re.sub(r\"[^a-zA-Z_]\", \" \", x))"
   ]
  },
  {
   "cell_type": "code",
   "execution_count": 6,
   "id": "d695ab7c-b41b-4484-a4c4-c6311ee2e823",
   "metadata": {},
   "outputs": [],
   "source": [
    "data_g1['tags'] = data_g1['tags'].apply(lambda x: ', '.join(word.strip() for word in set(x.split())))\n",
    "data_g2['tags'] = data_g2['tags'].apply(lambda x: ', '.join(word.strip() for word in set(x.split())))\n",
    "data_g3['tags'] = data_g3['tags'].apply(lambda x: ', '.join(word.strip() for word in set(x.split())))"
   ]
  },
  {
   "cell_type": "code",
   "execution_count": 7,
   "id": "ae2ce60f-33a2-4442-bb5d-6485fd18b2e1",
   "metadata": {},
   "outputs": [
    {
     "data": {
      "text/plain": [
       "count    6277.000000\n",
       "mean       14.180819\n",
       "std        13.108034\n",
       "min         1.000000\n",
       "25%         5.000000\n",
       "50%        11.000000\n",
       "75%        19.000000\n",
       "max       245.000000\n",
       "Name: text, dtype: float64"
      ]
     },
     "execution_count": 7,
     "metadata": {},
     "output_type": "execute_result"
    }
   ],
   "source": [
    "data_g3['text'].apply(lambda x: len(x.split())).describe()"
   ]
  },
  {
   "cell_type": "code",
   "execution_count": 8,
   "id": "7d502c73-5d34-4e64-8ebd-4d252a897647",
   "metadata": {},
   "outputs": [
    {
     "data": {
      "text/plain": [
       "((5884, 3), (1472, 3), (5164, 3), (1291, 3), (5021, 3), (1256, 3))"
      ]
     },
     "execution_count": 8,
     "metadata": {},
     "output_type": "execute_result"
    }
   ],
   "source": [
    "data_g1_train, data_g1_test = train_test_split(data_g1, test_size = 0.2, random_state = 42)\n",
    "data_g2_train, data_g2_test = train_test_split(data_g2, test_size = 0.2, random_state = 42)\n",
    "data_g3_train, data_g3_test = train_test_split(data_g3, test_size = 0.2, random_state = 42)\n",
    "data_g1_train.shape, data_g1_test.shape, data_g2_train.shape, data_g2_test.shape, data_g3_train.shape, data_g3_test.shape"
   ]
  },
  {
   "cell_type": "code",
   "execution_count": 9,
   "id": "b7d7eef6-8675-4b0a-95b3-5f96f3d378cd",
   "metadata": {},
   "outputs": [],
   "source": [
    "data_g1_train_100 = data_g1_train.sample(n = 100, random_state = 42)\n",
    "data_g2_train_100 = data_g2_train.sample(n = 100, random_state = 42)"
   ]
  },
  {
   "cell_type": "code",
   "execution_count": 10,
   "id": "058c285d-d6e0-409e-9d32-4a35b1080221",
   "metadata": {},
   "outputs": [],
   "source": [
    "def preprocess_data(data):\n",
    "    max_words = 10000 \n",
    "    max_length = 300  \n",
    " \n",
    "    tokenizer = Tokenizer(num_words=max_words, oov_token=\"<OOV>\")\n",
    "    tokenizer.fit_on_texts(data['text'])\n",
    " \n",
    "    sequences = tokenizer.texts_to_sequences(data['text'])\n",
    "    padded_sequences = pad_sequences(sequences, maxlen=max_length, padding='post', truncating='post')\n",
    " \n",
    "    mlb = MultiLabelBinarizer()\n",
    "    encoded_tags = mlb.fit_transform(data['tags'].apply(lambda x: set(x.split(', '))))\n",
    " \n",
    "    return {'text': padded_sequences, 'tags': encoded_tags}"
   ]
  },
  {
   "cell_type": "code",
   "execution_count": 11,
   "id": "da956ca8-d5ab-41e7-80b3-696a29f1f716",
   "metadata": {},
   "outputs": [],
   "source": [
    "def create_and_train_model(data, model_name, vocab_size, embedding_dim, max_length, num_classes):\n",
    "    model = keras.Sequential([\n",
    "        layers.Embedding(input_dim=vocab_size, output_dim=embedding_dim, input_length=max_length),\n",
    "        layers.Flatten(),\n",
    "        layers.Dense(64, activation='relu'),\n",
    "        layers.Dense(num_classes, activation='softmax')\n",
    "    ])\n",
    "\n",
    "    model.compile(optimizer='adam', loss='binary_crossentropy', metrics=['accuracy'])\n",
    "    model.fit(data['text'], data['tags'], epochs=50)\n",
    "\n",
    "    model.save(f'/home/ubuntu/training/ayush/continual_learning/models/{model_name}.h5')\n",
    "\n",
    "    return model"
   ]
  },
  {
   "cell_type": "code",
   "execution_count": 12,
   "id": "397ce92f-b035-4fe0-9c7d-1dd48d9ce413",
   "metadata": {},
   "outputs": [],
   "source": [
    "data1_train = preprocess_data(data_g1_train)\n",
    "data1_test = preprocess_data(data_g1_test)\n",
    "\n",
    "data2_train = preprocess_data(data_g2_train)\n",
    "data2_test = preprocess_data(data_g2_test)\n",
    "\n",
    "data3_train = preprocess_data(data_g3_train)\n",
    "data3_test = preprocess_data(data_g3_test)\n",
    "\n",
    "data1_train_100 = preprocess_data(data_g1_train_100)\n",
    "data2_train_100 = preprocess_data(data_g2_train_100)"
   ]
  },
  {
   "cell_type": "code",
   "execution_count": 13,
   "id": "397f5845-7f06-4642-bcad-9e1a0afa80f3",
   "metadata": {},
   "outputs": [
    {
     "data": {
      "text/plain": [
       "(5884, 3)"
      ]
     },
     "execution_count": 13,
     "metadata": {},
     "output_type": "execute_result"
    }
   ],
   "source": [
    "data_g1_train.shape"
   ]
  },
  {
   "cell_type": "code",
   "execution_count": 14,
   "id": "8c569bb5-e6fd-4421-bfff-332426896c01",
   "metadata": {},
   "outputs": [
    {
     "data": {
      "text/plain": [
       "array([1, 0, 0, 0])"
      ]
     },
     "execution_count": 14,
     "metadata": {},
     "output_type": "execute_result"
    }
   ],
   "source": [
    "# data1['text'][1]\n",
    "data1_train['tags'][5872]"
   ]
  },
  {
   "cell_type": "markdown",
   "id": "fdabd7ec-8a4c-4894-95c6-76b050272f04",
   "metadata": {},
   "source": [
    "## Train Starting Model on data1"
   ]
  },
  {
   "cell_type": "code",
   "execution_count": 15,
   "id": "a4b22a74-e3ac-49f2-b305-f36aea396171",
   "metadata": {
    "tags": []
   },
   "outputs": [
    {
     "name": "stderr",
     "output_type": "stream",
     "text": [
      "2024-02-05 17:33:25.594773: W tensorflow/stream_executor/platform/default/dso_loader.cc:64] Could not load dynamic library 'libcuda.so.1'; dlerror: libcuda.so.1: cannot open shared object file: No such file or directory\n",
      "2024-02-05 17:33:25.596326: W tensorflow/stream_executor/cuda/cuda_driver.cc:263] failed call to cuInit: UNKNOWN ERROR (303)\n",
      "2024-02-05 17:33:25.596346: I tensorflow/stream_executor/cuda/cuda_diagnostics.cc:156] kernel driver does not appear to be running on this host (ip-10-0-0-71): /proc/driver/nvidia/version does not exist\n",
      "2024-02-05 17:33:25.597242: I tensorflow/core/platform/cpu_feature_guard.cc:193] This TensorFlow binary is optimized with oneAPI Deep Neural Network Library (oneDNN) to use the following CPU instructions in performance-critical operations:  AVX2 AVX512F AVX512_VNNI FMA\n",
      "To enable them in other operations, rebuild TensorFlow with the appropriate compiler flags.\n"
     ]
    },
    {
     "name": "stdout",
     "output_type": "stream",
     "text": [
      "Epoch 1/50\n",
      "184/184 [==============================] - 1s 3ms/step - loss: 0.4085 - accuracy: 0.5802\n",
      "Epoch 2/50\n",
      "184/184 [==============================] - 0s 3ms/step - loss: 0.1964 - accuracy: 0.8404\n",
      "Epoch 3/50\n",
      "184/184 [==============================] - 0s 3ms/step - loss: 0.1082 - accuracy: 0.8975\n",
      "Epoch 4/50\n",
      "184/184 [==============================] - 0s 3ms/step - loss: 0.0613 - accuracy: 0.9210\n",
      "Epoch 5/50\n",
      "184/184 [==============================] - 0s 3ms/step - loss: 0.0341 - accuracy: 0.9308\n",
      "Epoch 6/50\n",
      "184/184 [==============================] - 0s 3ms/step - loss: 0.0195 - accuracy: 0.9320\n",
      "Epoch 7/50\n",
      "184/184 [==============================] - 0s 3ms/step - loss: 0.0120 - accuracy: 0.9354\n",
      "Epoch 8/50\n",
      "184/184 [==============================] - 0s 3ms/step - loss: 0.0075 - accuracy: 0.9356\n",
      "Epoch 9/50\n",
      "184/184 [==============================] - 0s 3ms/step - loss: 0.0054 - accuracy: 0.9359\n",
      "Epoch 10/50\n",
      "184/184 [==============================] - 0s 3ms/step - loss: 0.0039 - accuracy: 0.9368\n",
      "Epoch 11/50\n",
      "184/184 [==============================] - 0s 3ms/step - loss: 0.0031 - accuracy: 0.9358\n",
      "Epoch 12/50\n",
      "184/184 [==============================] - 0s 3ms/step - loss: 0.0023 - accuracy: 0.9373\n",
      "Epoch 13/50\n",
      "184/184 [==============================] - 0s 3ms/step - loss: 0.0019 - accuracy: 0.9366\n",
      "Epoch 14/50\n",
      "184/184 [==============================] - 0s 3ms/step - loss: 0.0016 - accuracy: 0.9366\n",
      "Epoch 15/50\n",
      "184/184 [==============================] - 0s 3ms/step - loss: 0.0015 - accuracy: 0.9383\n",
      "Epoch 16/50\n",
      "184/184 [==============================] - 0s 3ms/step - loss: 0.0013 - accuracy: 0.9414\n",
      "Epoch 17/50\n",
      "184/184 [==============================] - 0s 3ms/step - loss: 0.0013 - accuracy: 0.9359\n",
      "Epoch 18/50\n",
      "184/184 [==============================] - 0s 3ms/step - loss: 0.0012 - accuracy: 0.9390\n",
      "Epoch 19/50\n",
      "184/184 [==============================] - 0s 3ms/step - loss: 0.0011 - accuracy: 0.9392\n",
      "Epoch 20/50\n",
      "184/184 [==============================] - 0s 3ms/step - loss: 9.5543e-04 - accuracy: 0.9419\n",
      "Epoch 21/50\n",
      "184/184 [==============================] - 0s 3ms/step - loss: 0.0011 - accuracy: 0.9388\n",
      "Epoch 22/50\n",
      "184/184 [==============================] - 0s 3ms/step - loss: 0.0014 - accuracy: 0.9397\n",
      "Epoch 23/50\n",
      "184/184 [==============================] - 0s 3ms/step - loss: 0.0011 - accuracy: 0.9414\n",
      "Epoch 24/50\n",
      "184/184 [==============================] - 0s 3ms/step - loss: 0.0011 - accuracy: 0.9386\n",
      "Epoch 25/50\n",
      "184/184 [==============================] - 0s 3ms/step - loss: 9.8542e-04 - accuracy: 0.9426\n",
      "Epoch 26/50\n",
      "184/184 [==============================] - 0s 3ms/step - loss: 0.0010 - accuracy: 0.9373\n",
      "Epoch 27/50\n",
      "184/184 [==============================] - 0s 3ms/step - loss: 0.0011 - accuracy: 0.9424\n",
      "Epoch 28/50\n",
      "184/184 [==============================] - 0s 3ms/step - loss: 9.3949e-04 - accuracy: 0.9390\n",
      "Epoch 29/50\n",
      "184/184 [==============================] - 0s 3ms/step - loss: 0.0010 - accuracy: 0.9361\n",
      "Epoch 30/50\n",
      "184/184 [==============================] - 0s 3ms/step - loss: 9.1205e-04 - accuracy: 0.9325\n",
      "Epoch 31/50\n",
      "184/184 [==============================] - 0s 3ms/step - loss: 9.3360e-04 - accuracy: 0.9363\n",
      "Epoch 32/50\n",
      "184/184 [==============================] - 0s 3ms/step - loss: 0.0010 - accuracy: 0.9410\n",
      "Epoch 33/50\n",
      "184/184 [==============================] - 0s 3ms/step - loss: 0.0011 - accuracy: 0.9373\n",
      "Epoch 34/50\n",
      "184/184 [==============================] - 0s 3ms/step - loss: 8.4268e-04 - accuracy: 0.9380\n",
      "Epoch 35/50\n",
      "184/184 [==============================] - 0s 3ms/step - loss: 6.6152e-04 - accuracy: 0.9364\n",
      "Epoch 36/50\n",
      "184/184 [==============================] - 0s 3ms/step - loss: 0.0011 - accuracy: 0.9403\n",
      "Epoch 37/50\n",
      "184/184 [==============================] - 0s 3ms/step - loss: 7.0630e-04 - accuracy: 0.9351\n",
      "Epoch 38/50\n",
      "184/184 [==============================] - 0s 3ms/step - loss: 0.0011 - accuracy: 0.9429\n",
      "Epoch 39/50\n",
      "184/184 [==============================] - 0s 3ms/step - loss: 0.0011 - accuracy: 0.9354\n",
      "Epoch 40/50\n",
      "184/184 [==============================] - 0s 3ms/step - loss: 6.0500e-04 - accuracy: 0.9470\n",
      "Epoch 41/50\n",
      "184/184 [==============================] - 0s 3ms/step - loss: 0.0010 - accuracy: 0.9400\n",
      "Epoch 42/50\n",
      "184/184 [==============================] - 0s 3ms/step - loss: 9.3853e-04 - accuracy: 0.9361\n",
      "Epoch 43/50\n",
      "184/184 [==============================] - 0s 3ms/step - loss: 0.0011 - accuracy: 0.9448\n",
      "Epoch 44/50\n",
      "184/184 [==============================] - 0s 3ms/step - loss: 8.4604e-04 - accuracy: 0.9385\n",
      "Epoch 45/50\n",
      "184/184 [==============================] - 0s 3ms/step - loss: 9.1281e-04 - accuracy: 0.9431\n",
      "Epoch 46/50\n",
      "184/184 [==============================] - 0s 3ms/step - loss: 6.4659e-04 - accuracy: 0.9356\n",
      "Epoch 47/50\n",
      "184/184 [==============================] - 0s 3ms/step - loss: 0.0014 - accuracy: 0.9398\n",
      "Epoch 48/50\n",
      "184/184 [==============================] - 0s 3ms/step - loss: 7.2658e-04 - accuracy: 0.9487\n",
      "Epoch 49/50\n",
      "184/184 [==============================] - 0s 3ms/step - loss: 9.0316e-04 - accuracy: 0.9313\n",
      "Epoch 50/50\n",
      "184/184 [==============================] - 0s 3ms/step - loss: 7.6127e-04 - accuracy: 0.9335\n"
     ]
    }
   ],
   "source": [
    "model1 = create_and_train_model(data1_train, 'model1', vocab_size = 10000, embedding_dim = 50, max_length = 300, num_classes = 4)"
   ]
  },
  {
   "cell_type": "markdown",
   "id": "2503e22b-b973-4cdb-884a-87cc47e86b66",
   "metadata": {},
   "source": [
    "## Performance on g1_test data"
   ]
  },
  {
   "cell_type": "code",
   "execution_count": 16,
   "id": "0e28b169-ff8b-48f4-a92a-9aeb522c174e",
   "metadata": {},
   "outputs": [],
   "source": [
    "model1 = keras.models.load_model(\"/home/ubuntu/training/ayush/continual_learning/models/model1.h5\")"
   ]
  },
  {
   "cell_type": "code",
   "execution_count": 17,
   "id": "a6aec1a4-6807-428e-b8a0-4896f3e4f85b",
   "metadata": {},
   "outputs": [
    {
     "name": "stdout",
     "output_type": "stream",
     "text": [
      "46/46 [==============================] - 0s 1ms/step\n"
     ]
    }
   ],
   "source": [
    "prediction = model1.predict(data1_test['text'])"
   ]
  },
  {
   "cell_type": "code",
   "execution_count": 18,
   "id": "51033daf-a92f-4ef6-9694-1506657fa509",
   "metadata": {},
   "outputs": [
    {
     "data": {
      "text/plain": [
       "(1472, 4)"
      ]
     },
     "execution_count": 18,
     "metadata": {},
     "output_type": "execute_result"
    }
   ],
   "source": [
    "prediction.shape"
   ]
  },
  {
   "cell_type": "code",
   "execution_count": 19,
   "id": "00fb7735-f578-435f-bd2f-df5c3633931c",
   "metadata": {},
   "outputs": [
    {
     "name": "stdout",
     "output_type": "stream",
     "text": [
      "46/46 [==============================] - 0s 1ms/step\n",
      "F1 score for tag 'allergy_name': 0.08888888888888889\n",
      "F1 score for tag 'cancer': 0.21729490022172948\n",
      "F1 score for tag 'chronic_disease': 0.475448168355417\n",
      "F1 score for tag 'treatment': 0.5465465465465464\n",
      "\n",
      "Overall Classification Report:\n",
      "                  precision    recall  f1-score   support\n",
      "\n",
      "   allergy_name       0.29      0.05      0.09        38\n",
      "         cancer       0.25      0.19      0.22       256\n",
      "chronic_disease       0.49      0.46      0.48       659\n",
      "      treatment       0.57      0.53      0.55       689\n",
      "\n",
      "      micro avg       0.49      0.44      0.46      1642\n",
      "      macro avg       0.40      0.31      0.33      1642\n",
      "   weighted avg       0.48      0.44      0.46      1642\n",
      "    samples avg       0.49      0.44      0.46      1642\n",
      "\n"
     ]
    },
    {
     "name": "stderr",
     "output_type": "stream",
     "text": [
      "/home/ubuntu/.local/lib/python3.8/site-packages/sklearn/metrics/_classification.py:1327: UndefinedMetricWarning: Precision and F-score are ill-defined and being set to 0.0 in samples with no predicted labels. Use `zero_division` parameter to control this behavior.\n",
      "  _warn_prf(average, modifier, msg_start, len(result))\n"
     ]
    }
   ],
   "source": [
    "tags_order = ['allergy_name', 'cancer', 'chronic_disease', 'treatment']\n",
    "\n",
    "def evaluate_model(model, test_data, tags_order):\n",
    "    predictions = model.predict(test_data['text'])\n",
    "\n",
    "    binary_predictions = (predictions > 0.5).astype(int)\n",
    "\n",
    "    true_labels = test_data['tags']\n",
    "\n",
    "    f1_scores = []\n",
    "    for i in range(len(tags_order)):\n",
    "        tag_f1 = f1_score(true_labels[:, i], binary_predictions[:, i])\n",
    "        print(f\"F1 score for tag '{tags_order[i]}': {tag_f1}\")\n",
    "        f1_scores.append(tag_f1)\n",
    "        \n",
    "    print(\"\\nOverall Classification Report:\\n\", classification_report(true_labels, binary_predictions, target_names=tags_order))\n",
    "\n",
    "    return f1_scores\n",
    "\n",
    "f1_scores_data1 = evaluate_model(model1, data1_test, tags_order)"
   ]
  },
  {
   "cell_type": "markdown",
   "id": "11a6cc1a-0af1-424a-8447-eb99f12e4f72",
   "metadata": {},
   "source": [
    "## Load model1 and train model2 on data1_test and data2_test"
   ]
  },
  {
   "cell_type": "code",
   "execution_count": 20,
   "id": "595dfce8-4bc4-4761-952d-ef3eb82d6946",
   "metadata": {},
   "outputs": [],
   "source": [
    "model1 = keras.models.load_model(\"/home/ubuntu/training/ayush/continual_learning/models/model1.h5\")\n",
    "\n",
    "# Freeze the layers of the loaded model\n",
    "for layer in model1.layers:\n",
    "    layer.trainable = False\n",
    "\n",
    "# Add new layers for the second model\n",
    "model2 = keras.Sequential([\n",
    "    layers.Embedding(input_dim=10000, output_dim=50, input_length=300),\n",
    "    layers.Flatten(),\n",
    "    layers.Dense(64, activation='relu'),\n",
    "    layers.Dense(4, activation='softmax')\n",
    "])"
   ]
  },
  {
   "cell_type": "code",
   "execution_count": 21,
   "id": "5c8de34c-9723-4014-88e3-15992e877662",
   "metadata": {},
   "outputs": [],
   "source": [
    "# Compile the new model\n",
    "model2.compile(optimizer='adam', loss='binary_crossentropy', metrics=['accuracy'])\n",
    "\n",
    "# Combine data2_train and 100 samples from data1_train\n",
    "data2_train_combined = {\n",
    "    'text': np.concatenate([data2_train['text'], data1_train_100['text']]),\n",
    "    'tags': np.concatenate([data2_train['tags'], data1_train_100['tags']])\n",
    "}"
   ]
  },
  {
   "cell_type": "code",
   "execution_count": 22,
   "id": "0b38981b-a444-4170-868a-af8cb65d1f50",
   "metadata": {
    "collapsed": true,
    "jupyter": {
     "outputs_hidden": true
    },
    "tags": []
   },
   "outputs": [
    {
     "name": "stdout",
     "output_type": "stream",
     "text": [
      "Epoch 1/50\n",
      "165/165 [==============================] - 1s 3ms/step - loss: 0.4262 - accuracy: 0.5737\n",
      "Epoch 2/50\n",
      "165/165 [==============================] - 0s 3ms/step - loss: 0.2470 - accuracy: 0.7893\n",
      "Epoch 3/50\n",
      "165/165 [==============================] - 0s 3ms/step - loss: 0.1492 - accuracy: 0.8611\n",
      "Epoch 4/50\n",
      "165/165 [==============================] - 0s 3ms/step - loss: 0.0928 - accuracy: 0.8955\n",
      "Epoch 5/50\n",
      "165/165 [==============================] - 0s 3ms/step - loss: 0.0549 - accuracy: 0.9168\n",
      "Epoch 6/50\n",
      "165/165 [==============================] - 0s 3ms/step - loss: 0.0332 - accuracy: 0.9248\n",
      "Epoch 7/50\n",
      "165/165 [==============================] - 0s 3ms/step - loss: 0.0209 - accuracy: 0.9271\n",
      "Epoch 8/50\n",
      "165/165 [==============================] - 0s 3ms/step - loss: 0.0133 - accuracy: 0.9301\n",
      "Epoch 9/50\n",
      "165/165 [==============================] - 0s 3ms/step - loss: 0.0090 - accuracy: 0.9316\n",
      "Epoch 10/50\n",
      "165/165 [==============================] - 0s 3ms/step - loss: 0.0072 - accuracy: 0.9301\n",
      "Epoch 11/50\n",
      "165/165 [==============================] - 0s 3ms/step - loss: 0.0053 - accuracy: 0.9312\n",
      "Epoch 12/50\n",
      "165/165 [==============================] - 0s 3ms/step - loss: 0.0046 - accuracy: 0.9324\n",
      "Epoch 13/50\n",
      "165/165 [==============================] - 0s 3ms/step - loss: 0.0039 - accuracy: 0.9307\n",
      "Epoch 14/50\n",
      "165/165 [==============================] - 0s 3ms/step - loss: 0.0034 - accuracy: 0.9324\n",
      "Epoch 15/50\n",
      "165/165 [==============================] - 0s 3ms/step - loss: 0.0032 - accuracy: 0.9337\n",
      "Epoch 16/50\n",
      "165/165 [==============================] - 0s 3ms/step - loss: 0.0025 - accuracy: 0.9345\n",
      "Epoch 17/50\n",
      "165/165 [==============================] - 0s 3ms/step - loss: 0.0024 - accuracy: 0.9347\n",
      "Epoch 18/50\n",
      "165/165 [==============================] - 0s 3ms/step - loss: 0.0028 - accuracy: 0.9337\n",
      "Epoch 19/50\n",
      "165/165 [==============================] - 0s 3ms/step - loss: 0.0021 - accuracy: 0.9335\n",
      "Epoch 20/50\n",
      "165/165 [==============================] - 0s 3ms/step - loss: 0.0025 - accuracy: 0.9324\n",
      "Epoch 21/50\n",
      "165/165 [==============================] - 0s 3ms/step - loss: 0.0018 - accuracy: 0.9348\n",
      "Epoch 22/50\n",
      "165/165 [==============================] - 0s 3ms/step - loss: 0.0023 - accuracy: 0.9350\n",
      "Epoch 23/50\n",
      "165/165 [==============================] - 0s 3ms/step - loss: 0.0024 - accuracy: 0.9322\n",
      "Epoch 24/50\n",
      "165/165 [==============================] - 0s 3ms/step - loss: 0.0024 - accuracy: 0.9392\n",
      "Epoch 25/50\n",
      "165/165 [==============================] - 0s 3ms/step - loss: 0.0024 - accuracy: 0.9307\n",
      "Epoch 26/50\n",
      "165/165 [==============================] - 0s 3ms/step - loss: 0.0018 - accuracy: 0.9310\n",
      "Epoch 27/50\n",
      "165/165 [==============================] - 0s 3ms/step - loss: 0.0021 - accuracy: 0.9379\n",
      "Epoch 28/50\n",
      "165/165 [==============================] - 0s 3ms/step - loss: 0.0023 - accuracy: 0.9348\n",
      "Epoch 29/50\n",
      "165/165 [==============================] - 0s 3ms/step - loss: 0.0017 - accuracy: 0.9320\n",
      "Epoch 30/50\n",
      "165/165 [==============================] - 0s 3ms/step - loss: 0.0016 - accuracy: 0.9360\n",
      "Epoch 31/50\n",
      "165/165 [==============================] - 0s 3ms/step - loss: 0.0020 - accuracy: 0.9324\n",
      "Epoch 32/50\n",
      "165/165 [==============================] - 0s 3ms/step - loss: 0.0020 - accuracy: 0.9324\n",
      "Epoch 33/50\n",
      "165/165 [==============================] - 0s 3ms/step - loss: 0.0019 - accuracy: 0.9324\n",
      "Epoch 34/50\n",
      "165/165 [==============================] - 0s 3ms/step - loss: 0.0017 - accuracy: 0.9295\n",
      "Epoch 35/50\n",
      "165/165 [==============================] - 0s 3ms/step - loss: 0.0019 - accuracy: 0.9293\n",
      "Epoch 36/50\n",
      "165/165 [==============================] - 0s 3ms/step - loss: 0.0018 - accuracy: 0.9333\n",
      "Epoch 37/50\n",
      "165/165 [==============================] - 0s 3ms/step - loss: 0.0016 - accuracy: 0.9326\n",
      "Epoch 38/50\n",
      "165/165 [==============================] - 0s 3ms/step - loss: 0.0016 - accuracy: 0.9236\n",
      "Epoch 39/50\n",
      "165/165 [==============================] - 0s 3ms/step - loss: 0.0013 - accuracy: 0.9236\n",
      "Epoch 40/50\n",
      "165/165 [==============================] - 0s 3ms/step - loss: 0.0017 - accuracy: 0.9301\n",
      "Epoch 41/50\n",
      "165/165 [==============================] - 0s 3ms/step - loss: 0.0013 - accuracy: 0.9233\n",
      "Epoch 42/50\n",
      "165/165 [==============================] - 0s 3ms/step - loss: 0.0017 - accuracy: 0.9267\n",
      "Epoch 43/50\n",
      "165/165 [==============================] - 0s 3ms/step - loss: 0.0014 - accuracy: 0.9179\n",
      "Epoch 44/50\n",
      "165/165 [==============================] - 0s 3ms/step - loss: 0.0015 - accuracy: 0.9248\n",
      "Epoch 45/50\n",
      "165/165 [==============================] - 0s 3ms/step - loss: 0.0017 - accuracy: 0.9269\n",
      "Epoch 46/50\n",
      "165/165 [==============================] - 0s 3ms/step - loss: 0.0015 - accuracy: 0.9248\n",
      "Epoch 47/50\n",
      "165/165 [==============================] - 0s 3ms/step - loss: 0.0017 - accuracy: 0.9259\n",
      "Epoch 48/50\n",
      "165/165 [==============================] - 0s 3ms/step - loss: 0.0020 - accuracy: 0.9219\n",
      "Epoch 49/50\n",
      "165/165 [==============================] - 0s 3ms/step - loss: 0.0016 - accuracy: 0.9215\n",
      "Epoch 50/50\n",
      "165/165 [==============================] - 0s 3ms/step - loss: 0.0017 - accuracy: 0.9246\n"
     ]
    },
    {
     "data": {
      "text/plain": [
       "<keras.callbacks.History at 0x7f51670c10a0>"
      ]
     },
     "execution_count": 22,
     "metadata": {},
     "output_type": "execute_result"
    }
   ],
   "source": [
    "# Train the new model on data2_train_combined\n",
    "model2.fit(data2_train_combined['text'], data2_train_combined['tags'], epochs=50)"
   ]
  },
  {
   "cell_type": "code",
   "execution_count": 23,
   "id": "cebcaf25-cb5c-4f4b-bf91-1d23b6c274e4",
   "metadata": {},
   "outputs": [],
   "source": [
    "model2.save('/home/ubuntu/training/ayush/continual_learning/models/model2.h5')"
   ]
  },
  {
   "cell_type": "code",
   "execution_count": 24,
   "id": "d1bbffa9-31c5-4a63-933f-d59b46bd9708",
   "metadata": {},
   "outputs": [],
   "source": [
    "model2 = keras.models.load_model(\"/home/ubuntu/training/ayush/continual_learning/models/model2.h5\")"
   ]
  },
  {
   "cell_type": "markdown",
   "id": "36552852-fc5d-4b7e-b21f-eee371e1d04f",
   "metadata": {},
   "source": [
    "### Evaluate the new model on combined data1_test and data2_test"
   ]
  },
  {
   "cell_type": "code",
   "execution_count": 25,
   "id": "f59cb789-d3db-4c51-bc23-9205dfcfbf6d",
   "metadata": {},
   "outputs": [],
   "source": [
    "data12_test_combined = {\n",
    "    'text': np.concatenate([data1_test['text'], data2_test['text']]),\n",
    "    'tags': np.concatenate([data1_test['tags'], data2_test['tags']])\n",
    "}"
   ]
  },
  {
   "cell_type": "code",
   "execution_count": 26,
   "id": "c295098d-e9cf-4e82-8998-480fffd47da9",
   "metadata": {},
   "outputs": [
    {
     "name": "stdout",
     "output_type": "stream",
     "text": [
      "87/87 [==============================] - 0s 1ms/step\n",
      "F1 score for tag 'allergy_name': 0.05217391304347826\n",
      "F1 score for tag 'cancer': 0.2045231071779744\n",
      "F1 score for tag 'chronic_disease': 0.34609929078014184\n",
      "F1 score for tag 'treatment': 0.4836997725549659\n",
      "\n",
      "Overall Classification Report:\n",
      "                  precision    recall  f1-score   support\n",
      "\n",
      "   allergy_name       0.07      0.04      0.05        74\n",
      "         cancer       0.20      0.21      0.20       485\n",
      "chronic_disease       0.44      0.28      0.35      1287\n",
      "      treatment       0.47      0.49      0.48      1292\n",
      "\n",
      "      micro avg       0.40      0.35      0.38      3138\n",
      "      macro avg       0.30      0.26      0.27      3138\n",
      "   weighted avg       0.41      0.35      0.37      3138\n",
      "    samples avg       0.40      0.35      0.37      3138\n",
      "\n"
     ]
    },
    {
     "name": "stderr",
     "output_type": "stream",
     "text": [
      "/home/ubuntu/.local/lib/python3.8/site-packages/sklearn/metrics/_classification.py:1327: UndefinedMetricWarning: Precision and F-score are ill-defined and being set to 0.0 in samples with no predicted labels. Use `zero_division` parameter to control this behavior.\n",
      "  _warn_prf(average, modifier, msg_start, len(result))\n"
     ]
    },
    {
     "data": {
      "text/plain": [
       "[0.05217391304347826,\n",
       " 0.2045231071779744,\n",
       " 0.34609929078014184,\n",
       " 0.4836997725549659]"
      ]
     },
     "execution_count": 26,
     "metadata": {},
     "output_type": "execute_result"
    }
   ],
   "source": [
    "evaluate_model(model2, data12_test_combined, tags_order)"
   ]
  },
  {
   "cell_type": "markdown",
   "id": "8c8d11bf-6fb0-4273-8a33-1711d00928fa",
   "metadata": {},
   "source": [
    "## Train model2 on data3_train, data1_train_100, data2_train_100"
   ]
  },
  {
   "cell_type": "code",
   "execution_count": 27,
   "id": "b6b85707-9b49-4202-b909-0a8c413f3b49",
   "metadata": {},
   "outputs": [],
   "source": [
    "model2 = keras.models.load_model(\"/home/ubuntu/training/ayush/continual_learning/models/model2.h5\")\n",
    "\n",
    "# Freeze the layers of the loaded model\n",
    "for layer in model2.layers:\n",
    "    layer.trainable = False\n",
    "\n",
    "# Create a new model (model3) for data3\n",
    "model3 = keras.Sequential([\n",
    "    layers.Embedding(input_dim=10000, output_dim=50, input_length=300),\n",
    "    layers.Flatten(),\n",
    "    layers.Dense(64, activation='relu'),\n",
    "    layers.Dense(4, activation='softmax')\n",
    "])"
   ]
  },
  {
   "cell_type": "code",
   "execution_count": 28,
   "id": "d1ab1536-4f51-4480-b8be-9497a357ac4c",
   "metadata": {},
   "outputs": [],
   "source": [
    "# Compile the new model\n",
    "model3.compile(optimizer='adam', loss='binary_crossentropy', metrics=['accuracy'])\n",
    "\n",
    "# Combine data3_train, data1_train_100, and data2_train_100\n",
    "data3_train_combined = {\n",
    "    'text': np.concatenate([data3_train['text'], data1_train_100['text'], data2_train_100['text']]),\n",
    "    'tags': np.concatenate([data3_train['tags'], data1_train_100['tags'], data2_train_100['tags']])\n",
    "}"
   ]
  },
  {
   "cell_type": "code",
   "execution_count": 29,
   "id": "4956bb6f-278e-47d1-8140-a09130f520dd",
   "metadata": {
    "collapsed": true,
    "jupyter": {
     "outputs_hidden": true
    },
    "tags": []
   },
   "outputs": [
    {
     "name": "stdout",
     "output_type": "stream",
     "text": [
      "Epoch 1/50\n",
      "164/164 [==============================] - 1s 3ms/step - loss: 0.4354 - accuracy: 0.5493\n",
      "Epoch 2/50\n",
      "164/164 [==============================] - 0s 3ms/step - loss: 0.2678 - accuracy: 0.7617\n",
      "Epoch 3/50\n",
      "164/164 [==============================] - 0s 3ms/step - loss: 0.1565 - accuracy: 0.8594\n",
      "Epoch 4/50\n",
      "164/164 [==============================] - 0s 3ms/step - loss: 0.0937 - accuracy: 0.8956\n",
      "Epoch 5/50\n",
      "164/164 [==============================] - 0s 3ms/step - loss: 0.0581 - accuracy: 0.9061\n",
      "Epoch 6/50\n",
      "164/164 [==============================] - 0s 3ms/step - loss: 0.0358 - accuracy: 0.9157\n",
      "Epoch 7/50\n",
      "164/164 [==============================] - 0s 3ms/step - loss: 0.0226 - accuracy: 0.9173\n",
      "Epoch 8/50\n",
      "164/164 [==============================] - 0s 3ms/step - loss: 0.0150 - accuracy: 0.9219\n",
      "Epoch 9/50\n",
      "164/164 [==============================] - 0s 3ms/step - loss: 0.0108 - accuracy: 0.9261\n",
      "Epoch 10/50\n",
      "164/164 [==============================] - 0s 3ms/step - loss: 0.0076 - accuracy: 0.9240\n",
      "Epoch 11/50\n",
      "164/164 [==============================] - 0s 3ms/step - loss: 0.0055 - accuracy: 0.9236\n",
      "Epoch 12/50\n",
      "164/164 [==============================] - 0s 3ms/step - loss: 0.0046 - accuracy: 0.9276\n",
      "Epoch 13/50\n",
      "164/164 [==============================] - 0s 3ms/step - loss: 0.0040 - accuracy: 0.9266\n",
      "Epoch 14/50\n",
      "164/164 [==============================] - 0s 3ms/step - loss: 0.0034 - accuracy: 0.9261\n",
      "Epoch 15/50\n",
      "164/164 [==============================] - 0s 3ms/step - loss: 0.0030 - accuracy: 0.9286\n",
      "Epoch 16/50\n",
      "164/164 [==============================] - 0s 3ms/step - loss: 0.0027 - accuracy: 0.9309\n",
      "Epoch 17/50\n",
      "164/164 [==============================] - 0s 3ms/step - loss: 0.0023 - accuracy: 0.9282\n",
      "Epoch 18/50\n",
      "164/164 [==============================] - 0s 3ms/step - loss: 0.0022 - accuracy: 0.9345\n",
      "Epoch 19/50\n",
      "164/164 [==============================] - 0s 3ms/step - loss: 0.0026 - accuracy: 0.9326\n",
      "Epoch 20/50\n",
      "164/164 [==============================] - 0s 3ms/step - loss: 0.0019 - accuracy: 0.9293\n",
      "Epoch 21/50\n",
      "164/164 [==============================] - 0s 3ms/step - loss: 0.0019 - accuracy: 0.9282\n",
      "Epoch 22/50\n",
      "164/164 [==============================] - 0s 3ms/step - loss: 0.0020 - accuracy: 0.9289\n",
      "Epoch 23/50\n",
      "164/164 [==============================] - 0s 3ms/step - loss: 0.0017 - accuracy: 0.9282\n",
      "Epoch 24/50\n",
      "164/164 [==============================] - 0s 3ms/step - loss: 0.0020 - accuracy: 0.9335\n",
      "Epoch 25/50\n",
      "164/164 [==============================] - 0s 3ms/step - loss: 0.0018 - accuracy: 0.9305\n",
      "Epoch 26/50\n",
      "164/164 [==============================] - 0s 3ms/step - loss: 0.0021 - accuracy: 0.9312\n",
      "Epoch 27/50\n",
      "164/164 [==============================] - 0s 3ms/step - loss: 0.0015 - accuracy: 0.9332\n",
      "Epoch 28/50\n",
      "164/164 [==============================] - 0s 3ms/step - loss: 0.0018 - accuracy: 0.9333\n",
      "Epoch 29/50\n",
      "164/164 [==============================] - 0s 3ms/step - loss: 0.0023 - accuracy: 0.9332\n",
      "Epoch 30/50\n",
      "164/164 [==============================] - 0s 3ms/step - loss: 0.0022 - accuracy: 0.9349\n",
      "Epoch 31/50\n",
      "164/164 [==============================] - 0s 3ms/step - loss: 0.0017 - accuracy: 0.9339\n",
      "Epoch 32/50\n",
      "164/164 [==============================] - 0s 3ms/step - loss: 0.0022 - accuracy: 0.9402\n",
      "Epoch 33/50\n",
      "164/164 [==============================] - 0s 3ms/step - loss: 0.0017 - accuracy: 0.9335\n",
      "Epoch 34/50\n",
      "164/164 [==============================] - 0s 3ms/step - loss: 0.0024 - accuracy: 0.9286\n",
      "Epoch 35/50\n",
      "164/164 [==============================] - 0s 3ms/step - loss: 0.0017 - accuracy: 0.9378\n",
      "Epoch 36/50\n",
      "164/164 [==============================] - 0s 3ms/step - loss: 0.0019 - accuracy: 0.9322\n",
      "Epoch 37/50\n",
      "164/164 [==============================] - 0s 3ms/step - loss: 0.0023 - accuracy: 0.9326\n",
      "Epoch 38/50\n",
      "164/164 [==============================] - 0s 3ms/step - loss: 0.0018 - accuracy: 0.9326\n",
      "Epoch 39/50\n",
      "164/164 [==============================] - 0s 3ms/step - loss: 0.0016 - accuracy: 0.9383\n",
      "Epoch 40/50\n",
      "164/164 [==============================] - 0s 3ms/step - loss: 0.0023 - accuracy: 0.9356\n",
      "Epoch 41/50\n",
      "164/164 [==============================] - 0s 3ms/step - loss: 0.0018 - accuracy: 0.9349\n",
      "Epoch 42/50\n",
      "164/164 [==============================] - 0s 3ms/step - loss: 0.0020 - accuracy: 0.9368\n",
      "Epoch 43/50\n",
      "164/164 [==============================] - 0s 3ms/step - loss: 0.0018 - accuracy: 0.9286\n",
      "Epoch 44/50\n",
      "164/164 [==============================] - 0s 3ms/step - loss: 0.0019 - accuracy: 0.9360\n",
      "Epoch 45/50\n",
      "164/164 [==============================] - 0s 3ms/step - loss: 0.0016 - accuracy: 0.9360\n",
      "Epoch 46/50\n",
      "164/164 [==============================] - 0s 3ms/step - loss: 0.0020 - accuracy: 0.9358\n",
      "Epoch 47/50\n",
      "164/164 [==============================] - 0s 3ms/step - loss: 0.0016 - accuracy: 0.9337\n",
      "Epoch 48/50\n",
      "164/164 [==============================] - 0s 3ms/step - loss: 0.0018 - accuracy: 0.9224\n",
      "Epoch 49/50\n",
      "164/164 [==============================] - 0s 3ms/step - loss: 0.0018 - accuracy: 0.9163\n",
      "Epoch 50/50\n",
      "164/164 [==============================] - 0s 3ms/step - loss: 0.0019 - accuracy: 0.9215\n"
     ]
    },
    {
     "data": {
      "text/plain": [
       "<keras.callbacks.History at 0x7f5167424fa0>"
      ]
     },
     "execution_count": 29,
     "metadata": {},
     "output_type": "execute_result"
    }
   ],
   "source": [
    "# Train model3 on data3_train_combined\n",
    "model3.fit(data3_train_combined['text'], data3_train_combined['tags'], epochs=50)"
   ]
  },
  {
   "cell_type": "code",
   "execution_count": 30,
   "id": "241d1390-5528-4008-a3f1-4344b7fb632d",
   "metadata": {},
   "outputs": [],
   "source": [
    "model3.save('/home/ubuntu/training/ayush/continual_learning/models/model3.h5')"
   ]
  },
  {
   "cell_type": "code",
   "execution_count": 31,
   "id": "39a86f6d-a058-4c28-9609-83f557b8057b",
   "metadata": {},
   "outputs": [],
   "source": [
    "model3 = keras.models.load_model(\"/home/ubuntu/training/ayush/continual_learning/models/model3.h5\")"
   ]
  },
  {
   "cell_type": "markdown",
   "id": "8df9029e-227c-4403-9e71-3553f764df9e",
   "metadata": {},
   "source": [
    "### Evaluate model3 on combined data1_test, data2_test and data3_test"
   ]
  },
  {
   "cell_type": "code",
   "execution_count": 32,
   "id": "80bc223d-6e66-4a86-aee1-887519d92bd0",
   "metadata": {},
   "outputs": [],
   "source": [
    "data123_test_combined = {\n",
    "    'text': np.concatenate([data1_test['text'], data2_test['text'], data3_test['text']]),\n",
    "    'tags': np.concatenate([data1_test['tags'], data2_test['tags'], data3_test['tags']])\n",
    "}"
   ]
  },
  {
   "cell_type": "code",
   "execution_count": 33,
   "id": "5e99b093-50d9-448b-922c-aab950c55bda",
   "metadata": {},
   "outputs": [
    {
     "name": "stdout",
     "output_type": "stream",
     "text": [
      "126/126 [==============================] - 0s 1ms/step\n",
      "F1 score for tag 'allergy_name': 0.041884816753926704\n",
      "F1 score for tag 'cancer': 0.1991561181434599\n",
      "F1 score for tag 'chronic_disease': 0.41995714722987454\n",
      "F1 score for tag 'treatment': 0.5244058267314081\n",
      "\n",
      "Overall Classification Report:\n",
      "                  precision    recall  f1-score   support\n",
      "\n",
      "   allergy_name       0.05      0.03      0.04       116\n",
      "         cancer       0.24      0.17      0.20       684\n",
      "chronic_disease       0.50      0.36      0.42      1883\n",
      "      treatment       0.51      0.54      0.52      1885\n",
      "\n",
      "      micro avg       0.46      0.40      0.43      4568\n",
      "      macro avg       0.32      0.28      0.30      4568\n",
      "   weighted avg       0.45      0.40      0.42      4568\n",
      "    samples avg       0.46      0.40      0.42      4568\n",
      "\n"
     ]
    },
    {
     "name": "stderr",
     "output_type": "stream",
     "text": [
      "/home/ubuntu/.local/lib/python3.8/site-packages/sklearn/metrics/_classification.py:1327: UndefinedMetricWarning: Precision and F-score are ill-defined and being set to 0.0 in samples with no predicted labels. Use `zero_division` parameter to control this behavior.\n",
      "  _warn_prf(average, modifier, msg_start, len(result))\n"
     ]
    },
    {
     "data": {
      "text/plain": [
       "[0.041884816753926704,\n",
       " 0.1991561181434599,\n",
       " 0.41995714722987454,\n",
       " 0.5244058267314081]"
      ]
     },
     "execution_count": 33,
     "metadata": {},
     "output_type": "execute_result"
    }
   ],
   "source": [
    "evaluate_model(model3, data123_test_combined, tags_order)"
   ]
  },
  {
   "cell_type": "code",
   "execution_count": null,
   "id": "1c989a04-76e9-4270-b874-adf54477b1c5",
   "metadata": {},
   "outputs": [],
   "source": []
  },
  {
   "cell_type": "code",
   "execution_count": null,
   "id": "36069f41-63b6-4f97-bd60-33446066f9b3",
   "metadata": {},
   "outputs": [],
   "source": []
  },
  {
   "cell_type": "code",
   "execution_count": null,
   "id": "fa3291cb-9aca-4c6b-b9ce-558510a9ebaf",
   "metadata": {},
   "outputs": [],
   "source": []
  },
  {
   "cell_type": "code",
   "execution_count": null,
   "id": "f9aa6665-1dcd-42b6-ace7-39a9c6b54598",
   "metadata": {},
   "outputs": [],
   "source": []
  },
  {
   "cell_type": "code",
   "execution_count": null,
   "id": "33c0fa1e-393b-4040-82b6-13e730a31d11",
   "metadata": {},
   "outputs": [],
   "source": []
  },
  {
   "cell_type": "code",
   "execution_count": null,
   "id": "43025349-21a5-4e76-9bfd-c1decc9e0a9f",
   "metadata": {},
   "outputs": [],
   "source": []
  },
  {
   "cell_type": "code",
   "execution_count": null,
   "id": "a5b57671-7d55-47c4-b48b-b86b04dbf8f1",
   "metadata": {},
   "outputs": [],
   "source": []
  },
  {
   "cell_type": "code",
   "execution_count": null,
   "id": "e636910b-cd00-4ea1-8467-33213ffb0ede",
   "metadata": {},
   "outputs": [],
   "source": []
  },
  {
   "cell_type": "code",
   "execution_count": null,
   "id": "37d79534-d48b-42cd-b8dd-f760389bef0d",
   "metadata": {},
   "outputs": [],
   "source": []
  },
  {
   "cell_type": "code",
   "execution_count": null,
   "id": "1f648557-80d8-4555-9bd6-69d26fe913e9",
   "metadata": {},
   "outputs": [],
   "source": []
  }
 ],
 "metadata": {
  "kernelspec": {
   "display_name": "Python 3 (ipykernel)",
   "language": "python",
   "name": "python3"
  },
  "language_info": {
   "codemirror_mode": {
    "name": "ipython",
    "version": 3
   },
   "file_extension": ".py",
   "mimetype": "text/x-python",
   "name": "python",
   "nbconvert_exporter": "python",
   "pygments_lexer": "ipython3",
   "version": "3.8.10"
  }
 },
 "nbformat": 4,
 "nbformat_minor": 5
}
