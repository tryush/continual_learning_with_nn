{
 "cells": [
  {
   "cell_type": "code",
   "execution_count": 1,
   "id": "5bdaeef8-634d-40f0-9dd7-8e5fb41f4756",
   "metadata": {},
   "outputs": [
    {
     "name": "stderr",
     "output_type": "stream",
     "text": [
      "2024-02-05 18:11:08.812406: I tensorflow/core/platform/cpu_feature_guard.cc:193] This TensorFlow binary is optimized with oneAPI Deep Neural Network Library (oneDNN) to use the following CPU instructions in performance-critical operations:  AVX2 AVX512F AVX512_VNNI FMA\n",
      "To enable them in other operations, rebuild TensorFlow with the appropriate compiler flags.\n",
      "2024-02-05 18:11:08.915492: I tensorflow/core/util/util.cc:169] oneDNN custom operations are on. You may see slightly different numerical results due to floating-point round-off errors from different computation orders. To turn them off, set the environment variable `TF_ENABLE_ONEDNN_OPTS=0`.\n",
      "2024-02-05 18:11:08.920620: W tensorflow/stream_executor/platform/default/dso_loader.cc:64] Could not load dynamic library 'libcudart.so.11.0'; dlerror: libcudart.so.11.0: cannot open shared object file: No such file or directory\n",
      "2024-02-05 18:11:08.920635: I tensorflow/stream_executor/cuda/cudart_stub.cc:29] Ignore above cudart dlerror if you do not have a GPU set up on your machine.\n",
      "2024-02-05 18:11:08.943842: E tensorflow/stream_executor/cuda/cuda_blas.cc:2981] Unable to register cuBLAS factory: Attempting to register factory for plugin cuBLAS when one has already been registered\n",
      "2024-02-05 18:11:09.550323: W tensorflow/stream_executor/platform/default/dso_loader.cc:64] Could not load dynamic library 'libnvinfer.so.7'; dlerror: libnvinfer.so.7: cannot open shared object file: No such file or directory\n",
      "2024-02-05 18:11:09.550381: W tensorflow/stream_executor/platform/default/dso_loader.cc:64] Could not load dynamic library 'libnvinfer_plugin.so.7'; dlerror: libnvinfer_plugin.so.7: cannot open shared object file: No such file or directory\n",
      "2024-02-05 18:11:09.550388: W tensorflow/compiler/tf2tensorrt/utils/py_utils.cc:38] TF-TRT Warning: Cannot dlopen some TensorRT libraries. If you would like to use Nvidia GPU with TensorRT, please make sure the missing libraries mentioned above are installed properly.\n"
     ]
    }
   ],
   "source": [
    "from tensorflow import keras\n",
    "from tensorflow.keras import layers\n",
    "from sklearn.model_selection import train_test_split\n",
    "from sklearn.preprocessing import LabelEncoder\n",
    "import pandas as pd\n",
    "from tensorflow.keras.preprocessing.text import Tokenizer\n",
    "from tensorflow.keras.preprocessing.sequence import pad_sequences\n",
    "import re\n",
    "from sklearn.model_selection import train_test_split\n",
    "from sklearn.preprocessing import MultiLabelBinarizer\n",
    "from sklearn.metrics import f1_score, classification_report\n",
    "import numpy as np"
   ]
  },
  {
   "cell_type": "code",
   "execution_count": 2,
   "id": "c807da4f-e2fd-4fe2-b3cb-72075308a8dc",
   "metadata": {},
   "outputs": [],
   "source": [
    "data_g1 = pd.read_excel(\"/home/ubuntu/training/ayush/continual_learning/G1.xlsx\")\n",
    "data_g2 = pd.read_excel(\"/home/ubuntu/training/ayush/continual_learning/G2.xlsx\")\n",
    "data_g3 = pd.read_excel(\"/home/ubuntu/training/ayush/continual_learning/G3.xlsx\")\n",
    "\n",
    "data_g1.shape, data_g2.shape, data_g3.shape\n",
    "\n",
    "data_g1.drop('Unnamed: 0', axis =1, inplace = True)\n",
    "data_g2.drop('Unnamed: 0', axis =1, inplace = True)\n",
    "data_g3.drop('Unnamed: 0', axis =1, inplace = True)"
   ]
  },
  {
   "cell_type": "code",
   "execution_count": 3,
   "id": "e7a0a7ec-d469-4c14-b4c5-4da163a92d30",
   "metadata": {},
   "outputs": [],
   "source": [
    "data_g2['text'] = data_g2['text'].astype(str)\n",
    "\n",
    "data_g1['tags'] = data_g1['tags'].apply(lambda x: re.sub(r\"[^a-zA-Z_]\", \" \", x))\n",
    "data_g2['tags'] = data_g2['tags'].apply(lambda x: re.sub(r\"[^a-zA-Z_]\", \" \", x))\n",
    "data_g3['tags'] = data_g3['tags'].apply(lambda x: re.sub(r\"[^a-zA-Z_]\", \" \", x))\n",
    "\n",
    "data_g1['tags'] = data_g1['tags'].apply(lambda x: ', '.join(word.strip() for word in set(x.split())))\n",
    "data_g2['tags'] = data_g2['tags'].apply(lambda x: ', '.join(word.strip() for word in set(x.split())))\n",
    "data_g3['tags'] = data_g3['tags'].apply(lambda x: ', '.join(word.strip() for word in set(x.split())))"
   ]
  },
  {
   "cell_type": "code",
   "execution_count": 4,
   "id": "250db1f0-715f-4c39-93c4-9310e4fc14ed",
   "metadata": {},
   "outputs": [
    {
     "data": {
      "text/plain": [
       "((5884, 3), (1472, 3), (5164, 3), (1291, 3), (5021, 3), (1256, 3))"
      ]
     },
     "execution_count": 4,
     "metadata": {},
     "output_type": "execute_result"
    }
   ],
   "source": [
    "data_g1_train, data_g1_test = train_test_split(data_g1, test_size = 0.2, random_state = 42)\n",
    "data_g2_train, data_g2_test = train_test_split(data_g2, test_size = 0.2, random_state = 42)\n",
    "data_g3_train, data_g3_test = train_test_split(data_g3, test_size = 0.2, random_state = 42)\n",
    "data_g1_train.shape, data_g1_test.shape, data_g2_train.shape, data_g2_test.shape, data_g3_train.shape, data_g3_test.shape"
   ]
  },
  {
   "cell_type": "code",
   "execution_count": 5,
   "id": "c8994bf2-ea47-499f-9df4-8eecf7b4a76b",
   "metadata": {},
   "outputs": [],
   "source": [
    "from get_f1 import get_ner"
   ]
  },
  {
   "cell_type": "code",
   "execution_count": 6,
   "id": "1a1db1de-639f-45af-a40b-1b1ef2bf0aff",
   "metadata": {},
   "outputs": [
    {
     "name": "stderr",
     "output_type": "stream",
     "text": [
      "2024-02-05 18:11:37.534810: W tensorflow/stream_executor/platform/default/dso_loader.cc:64] Could not load dynamic library 'libcuda.so.1'; dlerror: libcuda.so.1: cannot open shared object file: No such file or directory\n",
      "2024-02-05 18:11:37.534834: W tensorflow/stream_executor/cuda/cuda_driver.cc:263] failed call to cuInit: UNKNOWN ERROR (303)\n",
      "2024-02-05 18:11:37.534850: I tensorflow/stream_executor/cuda/cuda_diagnostics.cc:156] kernel driver does not appear to be running on this host (ip-10-0-0-71): /proc/driver/nvidia/version does not exist\n",
      "2024-02-05 18:11:37.535067: I tensorflow/core/platform/cpu_feature_guard.cc:193] This TensorFlow binary is optimized with oneAPI Deep Neural Network Library (oneDNN) to use the following CPU instructions in performance-critical operations:  AVX2 AVX512F AVX512_VNNI FMA\n",
      "To enable them in other operations, rebuild TensorFlow with the appropriate compiler flags.\n"
     ]
    }
   ],
   "source": [
    "model = keras.models.load_model(\"/home/ubuntu/training/ayush/continual_learning/models/model1.h5\")\n",
    "data = data_g1_test"
   ]
  },
  {
   "cell_type": "code",
   "execution_count": 7,
   "id": "fbf6cf1f-5329-43ff-96c4-493e856d6175",
   "metadata": {},
   "outputs": [
    {
     "name": "stdout",
     "output_type": "stream",
     "text": [
      "46/46 [==============================] - 0s 1ms/step\n",
      "\n",
      "Overall Classification Report:\n",
      "                  precision    recall  f1-score   support\n",
      "\n",
      "   allergy_name       0.29      0.05      0.09        38\n",
      "         cancer       0.25      0.19      0.22       256\n",
      "chronic_disease       0.49      0.46      0.48       659\n",
      "      treatment       0.57      0.53      0.55       689\n",
      "\n",
      "      micro avg       0.49      0.44      0.46      1642\n",
      "      macro avg       0.40      0.31      0.33      1642\n",
      "   weighted avg       0.48      0.44      0.46      1642\n",
      "    samples avg       0.49      0.44      0.46      1642\n",
      "\n"
     ]
    },
    {
     "name": "stderr",
     "output_type": "stream",
     "text": [
      "/home/ubuntu/.local/lib/python3.8/site-packages/sklearn/metrics/_classification.py:1327: UndefinedMetricWarning: Precision and F-score are ill-defined and being set to 0.0 in samples with no predicted labels. Use `zero_division` parameter to control this behavior.\n",
      "  _warn_prf(average, modifier, msg_start, len(result))\n"
     ]
    },
    {
     "data": {
      "text/plain": [
       "{'Allery F1': 0.08888888888888889,\n",
       " 'Cancer F1': 0.21729490022172948,\n",
       " 'Chronic Disease F1': 0.475448168355417,\n",
       " 'Treatment F1': 0.5465465465465464}"
      ]
     },
     "execution_count": 7,
     "metadata": {},
     "output_type": "execute_result"
    }
   ],
   "source": [
    "get_ner(data, model)"
   ]
  },
  {
   "cell_type": "code",
   "execution_count": null,
   "id": "25de6376-7022-409e-acf6-454fad928e83",
   "metadata": {},
   "outputs": [],
   "source": []
  }
 ],
 "metadata": {
  "kernelspec": {
   "display_name": "Python 3 (ipykernel)",
   "language": "python",
   "name": "python3"
  },
  "language_info": {
   "codemirror_mode": {
    "name": "ipython",
    "version": 3
   },
   "file_extension": ".py",
   "mimetype": "text/x-python",
   "name": "python",
   "nbconvert_exporter": "python",
   "pygments_lexer": "ipython3",
   "version": "3.8.10"
  }
 },
 "nbformat": 4,
 "nbformat_minor": 5
}
